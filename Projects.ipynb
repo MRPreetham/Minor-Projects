{
 "cells": [
  {
   "cell_type": "markdown",
   "id": "4206f0a7",
   "metadata": {},
   "source": [
    "# Hangman"
   ]
  },
  {
   "cell_type": "code",
   "execution_count": 1,
   "id": "b85642cd",
   "metadata": {},
   "outputs": [],
   "source": [
    "wordlist=['aardvark', 'baboon', 'camel','affix','avenue','awkward','beekeeper','boggle','cycle','duplex','equip','exodus','funny','galaxy','gossip','jumbo','luxury']"
   ]
  },
  {
   "cell_type": "code",
   "execution_count": 2,
   "id": "171298fa",
   "metadata": {},
   "outputs": [],
   "source": [
    "stages = ['''\n",
    "  +---+\n",
    "  |   |\n",
    "  O   |\n",
    " /|\\  |\n",
    " / \\  |\n",
    "      |\n",
    "=========\n",
    "''', '''\n",
    "  +---+\n",
    "  |   |\n",
    "  O   |\n",
    " /|\\  |\n",
    " /    |\n",
    "      |\n",
    "=========\n",
    "''', '''\n",
    "  +---+\n",
    "  |   |\n",
    "  O   |\n",
    " /|\\  |\n",
    "      |\n",
    "      |\n",
    "=========\n",
    "''', '''\n",
    "  +---+\n",
    "  |   |\n",
    "  O   |\n",
    " /|   |\n",
    "      |\n",
    "      |\n",
    "=========''', '''\n",
    "  +---+\n",
    "  |   |\n",
    "  O   |\n",
    "  |   |\n",
    "      |\n",
    "      |\n",
    "=========\n",
    "''', '''\n",
    "  +---+\n",
    "  |   |\n",
    "  O   |\n",
    "      |\n",
    "      |\n",
    "      |\n",
    "=========\n",
    "''', '''\n",
    "  +---+\n",
    "  |   |\n",
    "      |\n",
    "      |\n",
    "      |\n",
    "      |\n",
    "=========\n",
    "''']"
   ]
  },
  {
   "cell_type": "code",
   "execution_count": 5,
   "id": "4cb4ded0",
   "metadata": {},
   "outputs": [
    {
     "name": "stdout",
     "output_type": "stream",
     "text": [
      "['a', 'w', 'k', 'w', 'a', 'r', 'd']\n",
      "\n",
      "  +---+\n",
      "  |   |\n",
      "      |\n",
      "      |\n",
      "      |\n",
      "      |\n",
      "=========\n",
      "\n",
      "You win\n"
     ]
    }
   ],
   "source": [
    "from IPython.display import clear_output\n",
    "import random\n",
    "lives=6\n",
    "\n",
    "random_word=random.choice(wordlist)\n",
    "\n",
    "print(f\"choosen word is {random_word}\")\n",
    "\n",
    "word_len=len(random_word)\n",
    "\n",
    "display=[\"_\" for i in range(word_len)]\n",
    "\n",
    "while True:\n",
    "    guessed_letter=input(\"Guess a letter: \").lower()\n",
    "    clear_output()\n",
    "    if guessed_letter in display:\n",
    "        continue\n",
    "    if guessed_letter in random_word:\n",
    "        for i in range(word_len):\n",
    "            if guessed_letter==random_word[i]:\n",
    "                display[i]=guessed_letter\n",
    "        print(display)\n",
    "    else:\n",
    "        lives-=1\n",
    "        print(f\"Remaining lives={lives}\")\n",
    "    print(stages[lives])\n",
    "    if lives==0:\n",
    "        print(\"You loose\")\n",
    "        break\n",
    "    if \"_\" not in display:\n",
    "        print(\"You win\")\n",
    "        break"
   ]
  },
  {
   "cell_type": "code",
   "execution_count": null,
   "id": "aca9f373",
   "metadata": {},
   "outputs": [],
   "source": []
  }
 ],
 "metadata": {
  "kernelspec": {
   "display_name": "Python 3 (ipykernel)",
   "language": "python",
   "name": "python3"
  },
  "language_info": {
   "codemirror_mode": {
    "name": "ipython",
    "version": 3
   },
   "file_extension": ".py",
   "mimetype": "text/x-python",
   "name": "python",
   "nbconvert_exporter": "python",
   "pygments_lexer": "ipython3",
   "version": "3.9.7"
  }
 },
 "nbformat": 4,
 "nbformat_minor": 5
}
